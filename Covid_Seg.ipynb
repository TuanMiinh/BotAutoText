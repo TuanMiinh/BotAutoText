{
  "nbformat": 4,
  "nbformat_minor": 0,
  "metadata": {
    "colab": {
      "name": "Covid_Seg.ipynb",
      "provenance": [],
      "collapsed_sections": [],
      "machine_shape": "hm",
      "mount_file_id": "11NPEzjRkIRuX6U7ayWE1YGOgobGfdK7q",
      "authorship_tag": "ABX9TyN4Q+WYLY14uBGuhy9u/DA2",
      "include_colab_link": true
    },
    "kernelspec": {
      "name": "python3",
      "display_name": "Python 3"
    },
    "language_info": {
      "name": "python"
    },
    "accelerator": "GPU"
  },
  "cells": [
    {
      "cell_type": "markdown",
      "metadata": {
        "id": "view-in-github",
        "colab_type": "text"
      },
      "source": [
        "<a href=\"https://colab.research.google.com/github/TuanMiinh/BotAutoText/blob/master/Covid_Seg.ipynb\" target=\"_parent\"><img src=\"https://colab.research.google.com/assets/colab-badge.svg\" alt=\"Open In Colab\"/></a>"
      ]
    },
    {
      "cell_type": "code",
      "metadata": {
        "colab": {
          "base_uri": "https://localhost:8080/"
        },
        "id": "fduNhvCECvkN",
        "outputId": "e784a60e-438f-45dd-aae4-b698da342737"
      },
      "source": [
        "from google.colab import drive\n",
        "drive.mount('/content/gdrive')"
      ],
      "execution_count": 1,
      "outputs": [
        {
          "output_type": "stream",
          "text": [
            "Mounted at /content/gdrive\n"
          ],
          "name": "stdout"
        }
      ]
    },
    {
      "cell_type": "code",
      "metadata": {
        "id": "IjJPJmO9DIsl"
      },
      "source": [
        "from __future__ import print_function\n",
        "\n",
        "import numpy as np\n",
        "import os\n",
        "from keras import layers\n",
        "import tensorflow as tf\n",
        "import matplotlib.pyplot as plt\n",
        "import tensorflow.python.keras.backend as KTF\n",
        "\n",
        "from skimage.transform import resize\n",
        "from keras.models import Model\n",
        "from keras.layers import Input, concatenate, LeakyReLU, AveragePooling2D, Conv2D,ZeroPadding2D,Convolution2D, Conv2DTranspose,MaxPooling2D,add, UpSampling2D, multiply,Dropout, BatchNormalization\n",
        "from keras.optimizers import Adam\n",
        "from keras.layers.core import Activation\n",
        "from keras.callbacks import ModelCheckpoint, EarlyStopping,CSVLogger\n",
        "from keras import backend as K,models\n",
        "from skimage.io import imsave"
      ],
      "execution_count": 2,
      "outputs": []
    },
    {
      "cell_type": "code",
      "metadata": {
        "id": "xDb8Ns0DDVj_"
      },
      "source": [
        "def merge(inputs, mode, concat_axis=-1):\n",
        "    return concatenate(inputs, concat_axis)"
      ],
      "execution_count": 3,
      "outputs": []
    },
    {
      "cell_type": "code",
      "metadata": {
        "id": "3sB8MSkfDwcr"
      },
      "source": [
        "K.set_image_data_format('channels_last')  # TF dimension ordering in this code 此代码用于TF维度排序\n",
        "smooth = 1.\n",
        "\n",
        "img_rows =128\n",
        "img_cols =128\n",
        "\n",
        "os.environ['CUDA_VISIBLE_DEVICES'] = \"0\"\n",
        "\n",
        "data_path = '/content/gdrive/MyDrive/file2/file/'"
      ],
      "execution_count": 4,
      "outputs": []
    },
    {
      "cell_type": "code",
      "metadata": {
        "id": "Krx-18PfD2EE"
      },
      "source": [
        "def load_train_data():\n",
        "    imgs_train = np.load(data_path + 'train.npy')\n",
        "    imgs_mask_train = np.load(data_path + 'train_mask.npy')\n",
        "    return imgs_train, imgs_mask_train"
      ],
      "execution_count": 5,
      "outputs": []
    },
    {
      "cell_type": "code",
      "metadata": {
        "id": "kldcphd8D357"
      },
      "source": [
        "def load_validation_data():\n",
        "    imgs_valid = np.load(data_path + 'validation.npy')\n",
        "    imgs_mask_valid = np.load(data_path + 'validation_mask.npy')\n",
        "    return imgs_valid, imgs_mask_valid\n",
        "\n",
        "\n",
        "def dice_coef(y_true, y_pred):\n",
        "    y_true_f = K.flatten(y_true)\n",
        "    y_pred_f = K.flatten(y_pred)\n",
        "    intersection = K.sum(y_true_f * y_pred_f)\n",
        "    return (2. * intersection + smooth) / (K.sum(y_true_f) + K.sum(y_pred_f) + smooth)\n",
        "\n",
        "\n",
        "def dice_coef_loss(y_true, y_pred):\n",
        "    return 1.0-dice_coef(y_true, y_pred)\n"
      ],
      "execution_count": 6,
      "outputs": []
    },
    {
      "cell_type": "code",
      "metadata": {
        "id": "r2sQzwr8D6IF"
      },
      "source": [
        "\n",
        "def sensitivity(y_true,y_pred):\n",
        "    true_positives=tf.reduce_sum(tf.round(K.clip(y_true*y_pred, 0, 1)))\n",
        "    possible_positives=tf.reduce_sum(tf.round(K.clip(y_true, 0, 1)))\n",
        "    return true_positives / (possible_positives+K.epsilon())\n",
        "#计算特异性\n",
        "def specificity(y_true,y_pred):\n",
        "    true_negatives=tf.reduce_sum(K.round(K.clip((1-y_true)*(1-y_pred), 0, 1)))\n",
        "    possible_negatives=tf.reduce_sum(K.round(K.clip((1-y_true), 0, 1)))\n",
        "    return true_negatives / (possible_negatives+K.epsilon())"
      ],
      "execution_count": 7,
      "outputs": []
    },
    {
      "cell_type": "code",
      "metadata": {
        "id": "5nMD-_OTD727"
      },
      "source": [
        "def precision(y_true, y_pred):\n",
        "    \"\"\"Precision metric.\n",
        "\n",
        "    Only computes a batch-wise average of precision.只计算批处理的平均精度。\n",
        "\n",
        "    Computes the precision, a metric for multi-label classification of\n",
        "    how many selected items are relevant.\n",
        "    计算精度，一个多标签分类的度量有多少选定的项目是相关的。\n",
        "    \"\"\"\n",
        "    true_positives = K.sum(K.round(K.clip(y_true * y_pred, 0, 1)))\n",
        "    predicted_positives = K.sum(K.round(K.clip(y_pred, 0, 1)))\n",
        "    precision = true_positives / (predicted_positives + K.epsilon())\n",
        "    return precision\n"
      ],
      "execution_count": 8,
      "outputs": []
    },
    {
      "cell_type": "code",
      "metadata": {
        "id": "nSctA_pmD97r"
      },
      "source": [
        "def f1score(y_true, y_pred):\n",
        "    def recall(y_true, y_pred):\n",
        "        \"\"\"Recall metric.\n",
        "\n",
        "        Only computes a batch-wise average of recall.仅计算批量平均召回率。\n",
        "\n",
        "        Computes the recall, a metric for multi-label classification of\n",
        "        how many relevant items are selected.\n",
        "        计算召回率，一个用于多标签分类的度量有多少相关的项目被选择。\n",
        "        \"\"\"\n",
        "        true_positives = K.sum(K.round(K.clip(y_true * y_pred, 0, 1)))\n",
        "        possible_positives = K.sum(K.round(K.clip(y_true, 0, 1)))\n",
        "        recall = true_positives / (possible_positives + K.epsilon())\n",
        "        return recall\n",
        "\n",
        "    def precision(y_true, y_pred):\n",
        "        \"\"\"Precision metric.\n",
        "\n",
        "        Only computes a batch-wise average of precision.只计算批处理的平均精度。\n",
        "\n",
        "        Computes the precision, a metric for multi-label classification of\n",
        "        how many selected items are relevant.\n",
        "        计算精度，一个多标签分类的度量有多少选定的项目是相关的。\n",
        "        \"\"\"\n",
        "        true_positives = K.sum(K.round(K.clip(y_true * y_pred, 0, 1)))\n",
        "        predicted_positives = K.sum(K.round(K.clip(y_pred, 0, 1)))\n",
        "        precision = true_positives / (predicted_positives + K.epsilon())\n",
        "        return precision\n",
        "    precision = precision(y_true, y_pred)\n",
        "    recall = recall(y_true, y_pred)\n",
        " \n",
        "    return 2*((precision*recall)/(precision+recall+K.epsilon()))   "
      ],
      "execution_count": 9,
      "outputs": []
    },
    {
      "cell_type": "code",
      "metadata": {
        "id": "uCNY0PSFD_2D"
      },
      "source": [
        "def unet4(upsamezhi,chuandi,F_g, F_l,F_int):\n",
        "    up = Conv2D(F_g, (1, 1), activation='relu', padding='same')(upsamezhi)\n",
        "    up= BatchNormalization()(up)\n",
        "\n",
        "    down= Conv2D(F_l, (1, 1), activation='relu', padding='same')(chuandi)\n",
        "    down= BatchNormalization()(down)\n",
        "    \n",
        "    sumadd=add([up,down])\n",
        "    sumadd = Activation(activation='relu')(sumadd)\n",
        "    \n",
        "    \n",
        "    \n",
        "    jihe=Conv2D(F_int, (1, 1), activation='relu', padding='same')(sumadd)\n",
        "    sumhalf= BatchNormalization()(jihe)\n",
        "    \n",
        "    \n",
        "    sum_1=Conv2D(1, (1, 1), activation='sigmoid', padding='same')(sumhalf)\n",
        "    sum_1= BatchNormalization()(sum_1)\n",
        "    \n",
        "    xinchuandi=multiply([chuandi,sum_1])\n",
        "    return xinchuandi\n"
      ],
      "execution_count": 10,
      "outputs": []
    },
    {
      "cell_type": "code",
      "metadata": {
        "id": "8ztdnVFbEB9c"
      },
      "source": [
        "def bottleneck(x, filters_bottleneck, mode='cascade', nb_layers=1,\n",
        "               kernel_size=(3, 3), activation='relu'):# used in the competition\n",
        "    if mode == 'cascade':\n",
        "        for i in range(nb_layers):\n",
        "            x1 = Conv2D(filters_bottleneck, kernel_size,activation=activation, \n",
        "               padding='same', dilation_rate=1)(x)\n",
        "            \n",
        "            x1 = Conv2D(filters_bottleneck, kernel_size,activation=activation,\n",
        "               padding='same', dilation_rate=2)(x1)\n",
        "            \n",
        "            x1 = Conv2D(filters_bottleneck, kernel_size,activation=activation,  \n",
        "               padding='same', dilation_rate=4)(x1)\n",
        "            \n",
        "            x1 = Conv2D(filters_bottleneck, kernel_size,activation=activation,  \n",
        "               padding='same', dilation_rate=8)(x1)\n",
        "            \n",
        "            x1 = Conv2D(filters_bottleneck, kernel_size,activation=activation,  \n",
        "               padding='same', dilation_rate=16)(x1)\n",
        "            \n",
        "            x1 = Conv2D(filters_bottleneck, kernel_size,activation=activation,  \n",
        "               padding='same', dilation_rate=1)(x1)\n",
        "            \n",
        "            x1 = Conv2D(filters_bottleneck, kernel_size,activation=activation,  \n",
        "               padding='same', dilation_rate=1)(x1)\n",
        "            \n",
        "            x = concatenate([x, x1], axis=3)\n",
        "        return x"
      ],
      "execution_count": 11,
      "outputs": []
    },
    {
      "cell_type": "code",
      "metadata": {
        "id": "sj1DijVKEDuT"
      },
      "source": [
        "\n",
        "\n",
        "def conv_block(x, nb_filter, alpha=0.0, drop_rate=0.2):\n",
        "    \n",
        "    x = Conv2D(nb_filter, kernel_size=(3, 3), padding='same', strides=(1, 1))(x)\n",
        "    x = BatchNormalization(axis=3)(x)\n",
        "    x = Activation(activation='relu')(x)\n",
        "    \n",
        "    x = Conv2D(nb_filter, kernel_size=(3, 3), padding='same', strides=(1, 1))(x)\n",
        "    x = BatchNormalization(axis=3)(x)\n",
        "    x = Activation(activation='relu')(x)\n",
        "    \n",
        "    if drop_rate: x = Dropout(drop_rate)(x)\n",
        "    return x"
      ],
      "execution_count": 12,
      "outputs": []
    },
    {
      "cell_type": "code",
      "metadata": {
        "id": "OuT0sxtXEFYs"
      },
      "source": [
        "\n",
        "def bottleneck_layer(x, nb_filter, nb_size = 4, alpha=0.0, drop_rate=0.2): #nb_size = 4,\n",
        "    \n",
        "    x = BatchNormalization(axis=3)(x)\n",
        "    x = Activation(activation='relu')(x)\n",
        "    x = Conv2D(nb_size*nb_filter, kernel_size=(1, 1), padding='same', strides=(1, 1))(x)   #nb_size*\n",
        "    \n",
        "    x = BatchNormalization(axis=3)(x)\n",
        "    x = Activation(activation='relu')(x)\n",
        "    x = Conv2D(nb_filter, kernel_size=(3, 3), padding='same', strides=(1, 1))(x)\n",
        "    \n",
        "    if drop_rate: x = Dropout(drop_rate)(x)\n",
        "    \n",
        "    return x"
      ],
      "execution_count": 13,
      "outputs": []
    },
    {
      "cell_type": "code",
      "metadata": {
        "id": "0ZBGtJhlEHgz"
      },
      "source": [
        "def Dense_Block(x, growth_rate, nb_layers=1, drop_rate=0.2):  #Dense_Block(x, nb_layers, growth_rate, drop_rate=0.2)\n",
        "    \n",
        "    for i in range(nb_layers):\n",
        "        conv = bottleneck_layer(x, nb_filter=growth_rate, drop_rate=drop_rate)\n",
        "        x = concatenate([x, conv], axis=3)\n",
        "        return x"
      ],
      "execution_count": 14,
      "outputs": []
    },
    {
      "cell_type": "code",
      "metadata": {
        "id": "e2MKw57cEJFr"
      },
      "source": [
        "def TransitionLayer(x, compression=0.5, alpha=0.0, is_max=0):\n",
        "    \n",
        "    nb_filter = int(x.shape.as_list()[-1]*compression)\n",
        "    x = BatchNormalization(axis=3)(x)\n",
        "    x = Activation(activation='relu')(x)\n",
        "    x = Conv2D(nb_filter, (1, 1), strides=(1,1), padding='same')(x)\n",
        "    if is_max != 0: x = MaxPooling2D(pool_size=(2, 2), strides=2)(x)\n",
        "    else: x = AveragePooling2D(pool_size=(2, 2), strides=2)(x)\n",
        "    \n",
        "    return x"
      ],
      "execution_count": 15,
      "outputs": []
    },
    {
      "cell_type": "code",
      "metadata": {
        "id": "MythXWG9EK2M"
      },
      "source": [
        "def encoder(x):\n",
        "    to_decoder = []\n",
        "    #128*128*32    first branching to decoder\n",
        "    main_path = conv_block(x, 32, drop_rate=0.2)\n",
        "    to_decoder.append(main_path)\n",
        "    \n",
        "    #64*64*64      second branching to decoder\n",
        "    main_path = TransitionLayer(main_path, is_max =1)\n",
        "    main_path = conv_block(main_path, 64, drop_rate=0.2)\n",
        "    to_decoder.append(main_path)\n",
        "    \n",
        "    #32*32*128     third branching to decoder\n",
        "    main_path = TransitionLayer(main_path, is_max =1)\n",
        "    main_path = conv_block(main_path, 128, drop_rate=0.2)\n",
        "    to_decoder.append(main_path)\n",
        "    \n",
        "    #16*16*256     fourth branching to decoder\n",
        "    main_path = TransitionLayer(main_path, is_max =1)\n",
        "    main_path = conv_block(main_path, 256, drop_rate=0.2)\n",
        "    to_decoder.append(main_path)\n",
        "    \n",
        "    #8*8*512\n",
        "    main_path = TransitionLayer(main_path, is_max=0)\n",
        "    main_path = Dense_Block(main_path, 512, drop_rate=0.2)\n",
        "    to_decoder.append(main_path)\n",
        "    return to_decoder\n",
        "\n",
        "\n",
        "def decoder(x, from_encoder):#\n",
        "    #8*8*256\n",
        "    main_path = UpSampling2D(size=(2, 2))(x)  \n",
        "    xin_encoder_1 = unet4(main_path,from_encoder[4],256, 256,128)#\n",
        "    main_path = concatenate([main_path, xin_encoder_1], axis=3)\n",
        "    main_path = Dense_Block(main_path, 512, drop_rate=0.2)\n",
        "    # \n",
        "    #16*16*128\n",
        "    main_path = UpSampling2D(size=(2, 2))(main_path)\n",
        "    xin_encoder_2 = unet4(main_path,from_encoder[3],128, 128,64)\n",
        "    main_path = concatenate([main_path, xin_encoder_2], axis=3)\n",
        "    main_path = conv_block(main_path, 256, drop_rate=0.2)\n",
        "    \n",
        "    #32*32*64\n",
        "    main_path = UpSampling2D(size=(2, 2))(main_path)\n",
        "    xin_encoder_3 = unet4(main_path,from_encoder[2],64, 64,32)\n",
        "    main_path = concatenate([main_path, xin_encoder_3], axis=3)\n",
        "    main_path = conv_block(main_path, 128, drop_rate=0.2)\n",
        "    \n",
        "    #64*64*32\n",
        "    main_path = UpSampling2D(size=(2, 2))(main_path)\n",
        "    xin_encoder_4 = unet4(main_path,from_encoder[1],32, 32,16)\n",
        "    main_path = concatenate([main_path, xin_encoder_4], axis=3)\n",
        "    main_path = conv_block(main_path, 64, drop_rate=0.2)\n",
        "    \n",
        "    #128*128*16\n",
        "    main_path = UpSampling2D(size=(2, 2))(main_path)\n",
        "    xin_encoder_5 = unet4(main_path,from_encoder[0],16, 16,8)\n",
        "    main_path = concatenate([main_path, xin_encoder_5], axis=3)\n",
        "    main_path = conv_block(main_path, 32, drop_rate=0.2)\n",
        "    \n",
        "    return main_path\n",
        "\n",
        "\n",
        "def build_res_unet( ):\n",
        "    #inputs = Input(shape=input_shape)\n",
        "    inputs = Input(shape=(img_rows, img_cols, 1)) #128*128*1\n",
        "\n",
        "    to_decoder = encoder(inputs)\n",
        "    \n",
        "    path = TransitionLayer(to_decoder[4], is_max=0)\n",
        "    path = Dense_Block(path, 512, drop_rate=0.2) #4*4*512\n",
        "    \n",
        "    bottle = bottleneck(path, filters_bottleneck=256, mode='cascade')#4*4*256\n",
        "    \n",
        "    path1 = Dense_Block(bottle, 256, drop_rate=0.2) #4*4*256\n",
        "    \n",
        "    path = decoder(path1, from_encoder=to_decoder)\n",
        "\n",
        "    path = Conv2D(filters=1, kernel_size=(1, 1), activation='hard_sigmoid',padding='same')(path)#activation='hard_sigmoid'可改为activation='softmax'\n",
        "    \n",
        "    model=Model(inputs=inputs, outputs=path)\n",
        "    \n",
        "\n",
        "             \n",
        "    model.compile(optimizer='adam', loss=dice_coef_loss, metrics=['accuracy',dice_coef, sensitivity,specificity,f1score,precision])\n",
        "\n",
        "    return model\n",
        "    "
      ],
      "execution_count": 16,
      "outputs": []
    },
    {
      "cell_type": "code",
      "metadata": {
        "id": "PUSlNHSbEPe7"
      },
      "source": [
        "def preprocess(imgs):\n",
        "    imgs_p = np.ndarray((imgs.shape[0], img_rows, img_cols), dtype=np.uint8)\n",
        "    for i in range(imgs.shape[0]):\n",
        "        imgs_p[i] = resize(imgs[i], (img_cols, img_rows), preserve_range=True)\n",
        "\n",
        "    imgs_p = imgs_p[..., np.newaxis]\n",
        "    return imgs_p\n"
      ],
      "execution_count": 17,
      "outputs": []
    },
    {
      "cell_type": "code",
      "metadata": {
        "id": "3oKL6qohESe0"
      },
      "source": [
        "def train():\n",
        "    print('-' * 30)\n",
        "    print('Loading and preprocessing train data...')\n",
        "    print('-' * 30)\n",
        "    imgs_train, imgs_mask_train = load_train_data()\n",
        "    imgs_valid, imgs_mask_valid = load_validation_data()\n",
        "\n",
        "    imgs_train = preprocess(imgs_train)\n",
        "    print(imgs_train.shape)\n",
        "    imgs_mask_train = preprocess(imgs_mask_train)\n",
        "    print(imgs_mask_train.shape)\n",
        "    imgs_valid = preprocess(imgs_valid)\n",
        "    print(imgs_valid.shape)\n",
        "    imgs_mask_valid = preprocess(imgs_mask_valid)\n",
        "    print(imgs_mask_valid.shape)\n",
        "\n",
        "    imgs_train = imgs_train.astype('float32')\n",
        "    imgs_valid = imgs_valid.astype('float32')\n",
        "\n",
        "    mean = np.mean(imgs_train)  # mean for data centering\n",
        "    std = np.std(imgs_train)  # std for data normalization\n",
        "\n",
        "    val_mean = np.mean(imgs_valid)\n",
        "    val_std = np.std(imgs_valid)\n",
        "\n",
        "    imgs_train -= mean\n",
        "    imgs_train /= std\n",
        "\n",
        "    imgs_valid -= val_mean\n",
        "    imgs_valid /= val_std\n",
        "\n",
        "    imgs_mask_train = imgs_mask_train.astype('float32')\n",
        "    imgs_mask_train /= 255.  # scale masks to [0, 1]\n",
        "\n",
        "    imgs_mask_valid = imgs_mask_valid.astype('float32')\n",
        "    imgs_mask_valid /= 255.\n",
        "\n",
        "    print('-' * 30)\n",
        "    print('Creating and compiling model...')\n",
        "    print('-' * 30)\n",
        "    model =build_res_unet()\n",
        "    model_checkpoint = ModelCheckpoint('/content/gdrive/MyDrive/file2/file/ADIDC-Net-again.hdf5',\n",
        "                                       monitor='val_loss',\n",
        "                                       save_best_only=True)\n",
        "    \n",
        "    \n",
        "\n",
        "    # print('-' * 30)\n",
        "    # print('Fitting model...')\n",
        "    # print('-' * 30)\n",
        "    # #earlystopper=EarlyStopping(monitor='val_loss',patience=10,verbose=1)\n",
        "    # his = model.fit(imgs_train, imgs_mask_train, batch_size=32, epochs=300, verbose=1, shuffle=True,\n",
        "    #                 validation_data=(imgs_valid, imgs_mask_valid), callbacks=[model_checkpoint])\n",
        "  \n",
        "    \n",
        "    # score_1=model.evaluate(imgs_train,imgs_mask_train,batch_size=32,verbose=1)\n",
        "    # print(' Train loss:',score_1[0])\n",
        "    # print(' Train accuracy:',score_1[1])\n",
        "    # print(' Train dice_coef:',score_1[2])\n",
        "    # print(' Train sensitivity:',score_1[3])\n",
        "    # print(' Train specificity:',score_1[4])\n",
        "    # print(' Train f1score:',score_1[5])\n",
        "    # print('Train precision:',score_1[6])\n",
        "    # res_loss_1 = np.array(score_1)\n",
        "    # np.savetxt(data_path+ 'res_loss_1.txt', res_loss_1)\n",
        "    \n",
        "    # score_2=model.evaluate(imgs_valid,imgs_mask_valid,batch_size=32, verbose=1)\n",
        "    # print(' valid loss:',score_2[0])\n",
        "    # print(' valid  accuracy:',score_2[1])\n",
        "    # print(' valid  dice_coef:',score_2[2])\n",
        "    # print(' valid  sensitivity:',score_2[3])\n",
        "    # print(' valid  specificity:',score_2[4])\n",
        "    # print(' valid f1score:',score_2[5])\n",
        "    # print('valid  precision:',score_2[6])\n",
        "    # res_loss_2 = np.array(score_2)\n",
        "    # np.savetxt(data_path + 'res_loss_2.txt', res_loss_2)\n",
        "\n",
        "    # plt.plot()\n",
        "    # plt.plot(his.history['loss'], label='train loss')\n",
        "    # plt.plot(his.history['val_loss'], c='g', label='val loss')\n",
        "    # plt.title('train and val loss')\n",
        "    # plt.xlabel('epoch')\n",
        "    # plt.ylabel('accuracy')\n",
        "    # plt.legend(loc='upper right')\n",
        "    # plt.show()\n",
        "    \n",
        "    \n",
        "    # plt.plot()\n",
        "    # plt.plot(his.history['acc'], label='train accuracy')    #'acc'\n",
        "    # plt.plot(his.history['val_acc'], c='g', label='val accuracy')   #'val_acc'\n",
        "    # plt.title('train  and val acc')\n",
        "    # plt.xlabel('epoch')\n",
        "    # plt.ylabel('accuracy')\n",
        "    # plt.legend(loc='lower right')\n",
        "    # plt.show()\n",
        "    \n",
        "    # plt.plot()\n",
        "    # plt.plot(his.history['dice_coef'], label='train dice_coef')\n",
        "    # plt.plot(his.history['val_dice_coef'], c='g', label='val dice_coef')\n",
        "    # plt.title('train  and val dice_coef')\n",
        "    # plt.xlabel('epoch')\n",
        "    # plt.ylabel('accuracy')\n",
        "    # plt.legend(loc='lower right')\n",
        "    # plt.show()\n",
        "    \n",
        "        \n",
        "    # plt.plot()\n",
        "    # plt.plot(his.history['sensitivity'], label='train sensitivity')\n",
        "    # plt.plot(his.history['val_sensitivity'], c='g', label='val sensitivity')\n",
        "    # plt.title('train  and val sensitivity')\n",
        "    # plt.xlabel('epoch')\n",
        "    # plt.ylabel('accuracy')\n",
        "    # plt.legend(loc='lower right')\n",
        "    # plt.show()\n",
        "       \n",
        "    # plt.plot()\n",
        "    # plt.plot(his.history['specificity'], label='train specificity')\n",
        "    # plt.plot(his.history['val_specificity'], c='g', label='val specificity')\n",
        "    # plt.title('train  and val specificity')\n",
        "    # plt.xlabel('epoch')\n",
        "    # plt.ylabel('accuracy')\n",
        "    # plt.legend(loc='lower right')\n",
        "    # plt.show()\n",
        "    \n",
        "    \n",
        "    \n",
        "\n",
        "    \n",
        "    # plt.plot()\n",
        "    # plt.plot(his.history['f1score'], label='train f1score')\n",
        "    # plt.plot(his.history['val_f1score'], c='g', label='val f1score')\n",
        "    # plt.title('train  and val f1score')\n",
        "    # plt.xlabel('epoch')\n",
        "    # plt.ylabel('accuracy')\n",
        "    # plt.legend(loc='lower right')\n",
        "    # plt.show()\n",
        "    \n",
        "   \n",
        "    # plt.plot()\n",
        "    # plt.plot(his.history['precision'], label='train precision')\n",
        "    # plt.plot(his.history['val_precision'], c='g', label='val_precision')\n",
        "    # plt.title('train  and val precision')\n",
        "    # plt.xlabel('epoch')\n",
        "    # plt.ylabel('accuracy')\n",
        "    # plt.legend(loc='lower right')\n",
        "    # plt.show()"
      ],
      "execution_count": null,
      "outputs": []
    },
    {
      "cell_type": "code",
      "metadata": {
        "id": "KA5BHoPpUMQs"
      },
      "source": [
        "print('-' * 30)\n",
        "print('Loading and preprocessing train data...')\n",
        "print('-' * 30)\n",
        "imgs_train, imgs_mask_train = load_train_data()\n",
        "imgs_valid, imgs_mask_valid = load_validation_data()\n",
        "\n",
        "imgs_train = preprocess(imgs_train)\n",
        "print(imgs_train.shape)\n",
        "imgs_mask_train = preprocess(imgs_mask_train)\n",
        "print(imgs_mask_train.shape)\n",
        "imgs_valid = preprocess(imgs_valid)\n",
        "print(imgs_valid.shape)\n",
        "imgs_mask_valid = preprocess(imgs_mask_valid)\n",
        "print(imgs_mask_valid.shape)\n",
        "\n",
        "imgs_train = imgs_train.astype('float32')\n",
        "imgs_valid = imgs_valid.astype('float32')\n",
        "\n",
        "mean = np.mean(imgs_train)  # mean for data centering\n",
        "std = np.std(imgs_train)  # std for data normalization\n",
        "\n",
        "val_mean = np.mean(imgs_valid)\n",
        "val_std = np.std(imgs_valid)\n",
        "\n",
        "imgs_train -= mean\n",
        "imgs_train /= std\n",
        "\n",
        "imgs_valid -= val_mean\n",
        "imgs_valid /= val_std\n",
        "\n",
        "imgs_mask_train = imgs_mask_train.astype('float32')\n",
        "imgs_mask_train /= 255.  # scale masks to [0, 1]\n",
        "\n",
        "imgs_mask_valid = imgs_mask_valid.astype('float32')\n",
        "imgs_mask_valid /= 255.\n",
        "\n",
        "print('-' * 30)\n",
        "print('Creating and compiling model...')\n",
        "print('-' * 30)\n",
        "model =build_res_unet()\n",
        "model_checkpoint = ModelCheckpoint('/content/gdrive/MyDrive/file2/file/ADIDC-Net-again.hdf5',\n",
        "                                       monitor='val_loss',\n",
        "                                       save_best_only=True)\n",
        "    \n",
        "    \n",
        "\n",
        "print('-' * 30)\n",
        "print('Fitting model...')\n",
        "print('-' * 30)\n",
        "#earlystopper=EarlyStopping(monitor='val_loss',patience=10,verbose=1)\n",
        "his = model.fit(imgs_train, imgs_mask_train, batch_size=32, epochs=300, verbose=1, shuffle=True,\n",
        "                    validation_data=(imgs_valid, imgs_mask_valid), callbacks=[model_checkpoint])\n",
        "  \n",
        "    \n",
        "score_1=model.evaluate(imgs_train,imgs_mask_train,batch_size=32,verbose=1)\n",
        "print(' Train loss:',score_1[0])\n",
        "print(' Train accuracy:',score_1[1])\n",
        "print(' Train dice_coef:',score_1[2])\n",
        "print(' Train sensitivity:',score_1[3])\n",
        "print(' Train specificity:',score_1[4])\n",
        "print(' Train f1score:',score_1[5])\n",
        "print('Train precision:',score_1[6])\n",
        "res_loss_1 = np.array(score_1)\n",
        "np.savetxt(data_path+ 'res_loss_1.txt', res_loss_1)\n",
        "    \n",
        "score_2=model.evaluate(imgs_valid,imgs_mask_valid,batch_size=32, verbose=1)\n",
        "print(' valid loss:',score_2[0])\n",
        "print(' valid  accuracy:',score_2[1])\n",
        "print(' valid  dice_coef:',score_2[2])\n",
        "print(' valid  sensitivity:',score_2[3])\n",
        "print(' valid  specificity:',score_2[4])\n",
        "print(' valid f1score:',score_2[5])\n",
        "print('valid  precision:',score_2[6])\n",
        "res_loss_2 = np.array(score_2)\n",
        "np.savetxt(data_path + 'res_loss_2.txt', res_loss_2)\n",
        "\n",
        "# plt.plot()\n",
        "# plt.plot(his.history['loss'], label='train loss')\n",
        "# plt.plot(his.history['val_loss'], c='g', label='val loss')\n",
        "# plt.title('train and val loss')\n",
        "# plt.xlabel('epoch')\n",
        "# plt.ylabel('accuracy')\n",
        "# plt.legend(loc='upper right')\n",
        "# plt.show()\n",
        "    \n",
        "    \n",
        "# plt.plot()\n",
        "# plt.plot(his.history['accuracy'], label='train accuracy')    #'acc'\n",
        "# plt.plot(his.history['val_acc'], c='g', label='val accuracy')   #'val_acc'\n",
        "# plt.title('train  and val acc')\n",
        "# plt.xlabel('epoch')\n",
        "# plt.ylabel('accuracy')\n",
        "# plt.legend(loc='lower right')\n",
        "# plt.show()\n",
        "    \n",
        "# plt.plot()\n",
        "# plt.plot(his.history['dice_coef'], label='train dice_coef')\n",
        "# plt.plot(his.history['val_dice_coef'], c='g', label='val dice_coef')\n",
        "# plt.title('train  and val dice_coef')\n",
        "# plt.xlabel('epoch')\n",
        "# plt.ylabel('accuracy')\n",
        "# plt.legend(loc='lower right')\n",
        "# plt.show()\n",
        "    \n",
        "        \n",
        "# plt.plot()\n",
        "# plt.plot(his.history['sensitivity'], label='train sensitivity')\n",
        "# plt.plot(his.history['val_sensitivity'], c='g', label='val sensitivity')\n",
        "# plt.title('train  and val sensitivity')\n",
        "# plt.xlabel('epoch')\n",
        "# plt.ylabel('accuracy')\n",
        "# plt.legend(loc='lower right')\n",
        "# plt.show()\n",
        "       \n",
        "# plt.plot()\n",
        "# plt.plot(his.history['specificity'], label='train specificity')\n",
        "# plt.plot(his.history['val_specificity'], c='g', label='val specificity')\n",
        "# plt.title('train  and val specificity')\n",
        "# plt.xlabel('epoch')\n",
        "# plt.ylabel('accuracy')\n",
        "# plt.legend(loc='lower right')\n",
        "# plt.show()\n",
        "    \n",
        "    \n",
        "    \n",
        "\n",
        "    \n",
        "# plt.plot()\n",
        "# plt.plot(his.history['f1score'], label='train f1score')\n",
        "# plt.plot(his.history['val_f1score'], c='g', label='val f1score')\n",
        "# plt.title('train  and val f1score')\n",
        "# plt.xlabel('epoch')\n",
        "# plt.ylabel('accuracy')\n",
        "# plt.legend(loc='lower right')\n",
        "# plt.show()\n",
        "    \n",
        "   \n",
        "# plt.plot()\n",
        "# plt.plot(his.history['precision'], label='train precision')\n",
        "# plt.plot(his.history['val_precision'], c='g', label='val_precision')\n",
        "# plt.title('train  and val precision')\n",
        "# plt.xlabel('epoch')\n",
        "# plt.ylabel('accuracy')\n",
        "# plt.legend(loc='lower right')\n",
        "# plt.show()"
      ],
      "execution_count": null,
      "outputs": []
    },
    {
      "cell_type": "code",
      "metadata": {
        "colab": {
          "base_uri": "https://localhost:8080/",
          "height": 295
        },
        "id": "5wMvyfI-Fg3v",
        "outputId": "9667653c-d3db-4d10-9826-d1043bcf7c96"
      },
      "source": [
        "import matplotlib.pyplot as plt\n",
        "\n",
        "\n",
        "plt.plot()\n",
        "plt.plot(his.history['loss'], label='train loss')\n",
        "plt.plot(his.history['val_loss'], c='g', label='val loss')\n",
        "plt.title('train and val loss')\n",
        "plt.xlabel('epoch')\n",
        "plt.ylabel('accuracy')\n",
        "plt.legend(loc='upper right')\n",
        "plt.show()\n",
        "    "
      ],
      "execution_count": null,
      "outputs": [
        {
          "output_type": "display_data",
          "data": {
            "image/png": "[encoded data removed]",
            "text/plain": [
              "<Figure size 432x288 with 1 Axes>"
            ]
          },
          "metadata": {
            "tags": [],
            "needs_background": "light"
          }
        }
      ]
    },
    {
      "cell_type": "code",
      "metadata": {
        "colab": {
          "base_uri": "https://localhost:8080/",
          "height": 295
        },
        "id": "T5L6jUYAFkVI",
        "outputId": "c53ad667-7c6b-48d3-dcca-60600d7abfed"
      },
      "source": [
        "    \n",
        "plt.plot()\n",
        "plt.plot(his.history['accuracy'], label='train accuracy')    #'acc'\n",
        "plt.plot(his.history['val_accuracy'], c='g', label='val accuracy')   #'val_acc'\n",
        "plt.title('train  and val acc')\n",
        "plt.xlabel('epoch')\n",
        "plt.ylabel('accuracy')\n",
        "plt.legend(loc='lower right')\n",
        "plt.show()"
      ],
      "execution_count": null,
      "outputs": [
        {
          "output_type": "display_data",
          "data": {
            "image/png": "[encoded data removed]",
            "text/plain": [
              "<Figure size 432x288 with 1 Axes>"
            ]
          },
          "metadata": {
            "tags": [],
            "needs_background": "light"
          }
        }
      ]
    },
    {
      "cell_type": "code",
      "metadata": {
        "id": "aZO5htpIFuzb"
      },
      "source": [
        ""
      ],
      "execution_count": null,
      "outputs": []
    },
    {
      "cell_type": "code",
      "metadata": {
        "id": "8Ye5UZvGJgnr"
      },
      "source": [
        "import numpy as np\n",
        "from PIL import Image\n",
        "import os\n",
        "from skimage.transform import resize\n",
        "from keras.models import model_from_json\n",
        "import cv2"
      ],
      "execution_count": 18,
      "outputs": []
    },
    {
      "cell_type": "code",
      "metadata": {
        "id": "egnm3kuxOPCe"
      },
      "source": [
        "data_path ='/content/gdrive/MyDrive/file2/file/'"
      ],
      "execution_count": 19,
      "outputs": []
    },
    {
      "cell_type": "code",
      "metadata": {
        "id": "cGGM8qndOXPa"
      },
      "source": [
        "def load_train_data():\n",
        "    imgs_train = np.load(data_path + 'train.npy')\n",
        "    imgs_mask_train = np.load(data_path + 'train_mask.npy')\n",
        "    return imgs_train, imgs_mask_train\n",
        "\n",
        "def load_test_data():\n",
        "    imgs_test = np.load(data_path + 'test.npy')\n",
        "    imgs_mask_test = np.load(data_path + 'test_mask.npy')\n",
        "    return imgs_test, imgs_mask_test"
      ],
      "execution_count": 20,
      "outputs": []
    },
    {
      "cell_type": "code",
      "metadata": {
        "id": "tKxfglNsOZE5"
      },
      "source": [
        "path = '/content/gdrive/MyDrive/file2/file/lr-5-32-100/'"
      ],
      "execution_count": 21,
      "outputs": []
    },
    {
      "cell_type": "code",
      "metadata": {
        "id": "rJzfr4_OKx3S"
      },
      "source": [
        "img_predict = r'/content/gdrive/MyDrive/file2/file/lr-5-32-100/UNET_PREDICTIONS/Test_Image_1_Predict.png' "
      ],
      "execution_count": 22,
      "outputs": []
    },
    {
      "cell_type": "code",
      "metadata": {
        "id": "bzh9KcdtK4Ro"
      },
      "source": [
        "def convert(URL):\n",
        "    image_rows = 128\n",
        "    image_cols = 128\n",
        "    imgs = np.ndarray((1, image_rows, image_cols), dtype=np.uint8)\n",
        "    i = 0\n",
        "    img = cv2.imread(URL, cv2.IMREAD_GRAYSCALE)  #\n",
        "    img = np.array([img])\n",
        "    imgs[i] = img\n",
        "    np.save(data_path + '/covert1.npy', imgs)\n",
        "    print(\"Successs\")"
      ],
      "execution_count": 23,
      "outputs": []
    },
    {
      "cell_type": "code",
      "metadata": {
        "id": "2Xz9k2kJK9we"
      },
      "source": [
        "def predict():\n",
        "    model = build_res_unet()\n",
        "    # print (model.metrics_names)\n",
        "    # imgs_train, imgs_mask_train = load_train_data()\n",
        "\n",
        "    path_to_save_results= path+\"UNET_PREDICTIONS/\"\n",
        "\n",
        "    # imgs_train = preprocess(imgs_train)\n",
        "    # imgs_mask_train = preprocess(imgs_mask_train)\n",
        "    #\n",
        "    # # mean= np.mean(img)\n",
        "    # # std = np.std(imgs_mask_train)\n",
        "\n",
        "    # imgs_test, imgs_test_mask = load_test_data()\n",
        "\n",
        "    imgs_test = np.load('/content/gdrive/MyDrive/file2/file/covert1.npy')\n",
        "\n",
        "\n",
        "    mean = np.mean(imgs_test)\n",
        "    std = np.std(imgs_test)\n",
        "    # print(std)\n",
        "\n",
        "    imgs_test = preprocess(imgs_test)\n",
        "    # imgs_test_mask = preprocess(imgs_test_mask)\n",
        "\n",
        "    imgs_test_source = imgs_test.astype('float32')\n",
        "    imgs_test_source -= mean\n",
        "    imgs_test_source /= std\n",
        "\n",
        "    # imgs_test_mask = imgs_test_mask.astype('float32')\n",
        "    # imgs_test_mask /= 255.  # scale masks to [0, 1]\n",
        "\n",
        "    print('Loading saved weights...')\n",
        "    print('-'*30)\n",
        "    \n",
        "    model.load_weights(data_path +'ADIDC-Net-again.hdf5')\n",
        "   \n",
        "    \n",
        "    print('Predicting masks on test data...')\n",
        "    print('-'*30)\n",
        "    imgs_mask_predict = model.predict(imgs_test_source, verbose=1)\n",
        "    # res = model.evaluate(imgs_test_source,imgs_test_mask,batch_size=32,verbose=1)\n",
        "    # print(' Test loss:',res[0])\n",
        "    \n",
        "    # #print(' Test sensitivity:',res[1])\n",
        "    # print('Test accuracy:',res[1])\n",
        "    #\n",
        "    # #print(' Test specificity:',res[2])\n",
        "    # print(' Test dice_coef:',res[2])\n",
        "    #\n",
        "    # #print('Test f1score:',res[3])\n",
        "    # print(' Test sensitivity:',res[3])\n",
        "    #\n",
        "    # #print(' Test precision:',res[4])\n",
        "    # print(' Test specificity:',res[4])\n",
        "    #\n",
        "    # #print(' Test mean_iou:',res[5])\n",
        "    # print('Test f1score:',res[5])\n",
        "    #\n",
        "    # #print('Test recall:',res[6])\n",
        "    # print(' Test precision:',res[6])\n",
        "    #\n",
        "    \n",
        "    # res_loss = np.array(res)\n",
        "    # np.save(path+'predict.npy', imgs_mask_predict)\n",
        "    # np.savetxt(path + 'res_loss.txt', res_loss)\n",
        "    #\n",
        "    # predicted_masks=np.load(path+'predict.npy')\n",
        "    predicted_masks = imgs_mask_predict\n",
        "    predicted_masks*=255\n",
        "    # imgs_test, imgs_test_mask = load_test_data()\n",
        "\n",
        "    for i in range(imgs_test.shape[0]):\n",
        "        # img = resize(imgs_test[i], (128, 128), preserve_range=True)\n",
        "        # img_mask = resize(imgs_test_mask[i], (128, 128), preserve_range=True)\n",
        "        # im_test_source = Image.fromarray(img.astype(np.uint8))\n",
        "        # im_test_masks = Image.fromarray((img_mask.squeeze()).astype(np.uint8))\n",
        "        im_test_predict = Image.fromarray((predicted_masks[i].squeeze()).astype(np.uint8))\n",
        "        im_test_source_name = \"Test_Image_\"+str(i+1)+\".png\"\n",
        "        im_test_predict_name = \"Test_Image_\"+str(i+1)+\"_Predict.png\"\n",
        "        im_test_gt_mask_name = \"Test_Image_\"+str(i+1)+\"_OriginalMask.png\"\n",
        "        # im_test_source.save(os.path.join(path_to_save_results,im_test_source_name))\n",
        "        im_test_predict.save(os.path.join(path_to_save_results,im_test_predict_name))\n",
        "        # im_test_masks.save(os.path.join(path_to_save_results,im_test_gt_mask_name))\n",
        "    message=\"Successfully Saved Results to \"+path_to_save_results\n",
        "    print (message)\n",
        "    x = cv2.imread(img_predict)\n",
        "    converted = cv2.cvtColor(x,cv2.COLOR_BGR2RGB)\n",
        "    plt.imshow(x)\n",
        "    plt.show()\n",
        "\n"
      ],
      "execution_count": 24,
      "outputs": []
    },
    {
      "cell_type": "code",
      "metadata": {
        "colab": {
          "resources": {
            "http://localhost:8080/nbextensions/google.colab/files.js": {
              "data": "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",
              "ok": true,
              "headers": [
                [
                  "content-type",
                  "application/javascript"
                ]
              ],
              "status": 200,
              "status_text": ""
            }
          },
          "base_uri": "https://localhost:8080/",
          "height": 90
        },
        "id": "Qf-gcZuXCqpY",
        "outputId": "2034c653-d882-4f83-fd0a-a992e828dd80"
      },
      "source": [
        "from google.colab import files\n",
        "\n",
        "uploaded = files.upload()\n",
        "\n",
        "for fn in uploaded.keys():\n",
        "  print('User uploaded file \"{name}\" with length {length} bytes'.format(\n",
        "      name=fn, length=len(uploaded[fn])))\n",
        "  \n"
      ],
      "execution_count": 25,
      "outputs": [
        {
          "output_type": "display_data",
          "data": {
            "text/html": [
              "\n",
              "     <input type=\"file\" id=\"files-74f65446-16f8-4954-802f-71d47f6df449\" name=\"files[]\" multiple disabled\n",
              "        style=\"border:none\" />\n",
              "     <output id=\"result-74f65446-16f8-4954-802f-71d47f6df449\">\n",
              "      Upload widget is only available when the cell has been executed in the\n",
              "      current browser session. Please rerun this cell to enable.\n",
              "      </output>\n",
              "      <script src=\"/nbextensions/google.colab/files.js\"></script> "
            ],
            "text/plain": [
              "<IPython.core.display.HTML object>"
            ]
          },
          "metadata": {
            "tags": []
          }
        },
        {
          "output_type": "stream",
          "text": [
            "Saving 2_0_5423.tif to 2_0_5423.tif\n",
            "User uploaded file \"2_0_5423.tif\" with length 12510 bytes\n"
          ],
          "name": "stdout"
        }
      ]
    },
    {
      "cell_type": "code",
      "metadata": {
        "colab": {
          "base_uri": "https://localhost:8080/",
          "height": 268
        },
        "id": "06Ujq5SNDV7f",
        "outputId": "065e45c3-69b4-4f5b-d376-ff6f0065acc5"
      },
      "source": [
        "img = list(uploaded.keys())[0]\n",
        "x = cv2.imread(img)\n",
        "converted = cv2.cvtColor(x,cv2.COLOR_BGR2RGB)\n",
        "# x = cv2.resize(converted,(512,512))[:,:,0]\n",
        "\n",
        "plt.imshow(x)\n",
        "plt.show()"
      ],
      "execution_count": 26,
      "outputs": [
        {
          "output_type": "display_data",
          "data": {
            "image/png": "[encoded data removed]",
            "text/plain": [
              "<Figure size 432x288 with 1 Axes>"
            ]
          },
          "metadata": {
            "tags": [],
            "needs_background": "light"
          }
        }
      ]
    },
    {
      "cell_type": "code",
      "metadata": {
        "colab": {
          "base_uri": "https://localhost:8080/",
          "height": 386
        },
        "id": "Qt9m9r-kuDUV",
        "outputId": "19453d6a-e693-4a34-e3eb-3407accac9fa"
      },
      "source": [
        "if __name__ == '__main__':\n",
        "    convert(img)\n",
        "    predict()\n",
        "    # model = build_res_unet( )\n",
        "    # print (model.metrics_names)\n",
        "    \n",
        "# x = cv2.resize(cv2.imread(img),(512,512))[:,:,0]\n"
      ],
      "execution_count": 27,
      "outputs": [
        {
          "output_type": "stream",
          "text": [
            "Successs\n",
            "Loading saved weights...\n",
            "------------------------------\n",
            "Predicting masks on test data...\n",
            "------------------------------\n",
            "1/1 [==============================] - 17s 17s/step\n",
            "Successfully Saved Results to /content/gdrive/MyDrive/file2/file/lr-5-32-100/UNET_PREDICTIONS/\n"
          ],
          "name": "stdout"
        },
        {
          "output_type": "display_data",
          "data": {
            "image/png": "[encoded data removed]",
            "text/plain": [
              "<Figure size 432x288 with 1 Axes>"
            ]
          },
          "metadata": {
            "tags": [],
            "needs_background": "light"
          }
        }
      ]
    },
    {
      "cell_type": "code",
      "metadata": {
        "id": "dzKXcVFJofv8"
      },
      "source": [
        "pip install Flask-Cors==1.10.3"
      ],
      "execution_count": null,
      "outputs": []
    },
    {
      "cell_type": "code",
      "metadata": {
        "id": "KGeFqnt6sUUe"
      },
      "source": [
        "!pip install flask-ngrok"
      ],
      "execution_count": null,
      "outputs": []
    },
    {
      "cell_type": "code",
      "metadata": {
        "id": "n50uzcslMNye"
      },
      "source": [
        "import base64\n",
        "\n",
        "import cv2\n",
        "import numpy as np\n",
        "from flask import Flask,render_template\n",
        "from flask import request\n",
        "from flask_cors import CORS, cross_origin\n",
        "from flask_ngrok import run_with_ngrok"
      ],
      "execution_count": null,
      "outputs": []
    },
    {
      "cell_type": "code",
      "metadata": {
        "id": "Q2pJ1yJPodm0"
      },
      "source": [
        "app = Flask(__name__,template_folder='/content/gdrive/MyDrive/MiAI_Face_Shape/templates')\n",
        "app.config['UPLOAD_FOLDER'] = \"/content/gdrive/MyDrive/MiAI_Face_Shape/static\""
      ],
      "execution_count": null,
      "outputs": []
    },
    {
      "cell_type": "code",
      "metadata": {
        "id": "olXvurYbotRy"
      },
      "source": [
        "@app.route('/', methods=['POST','GET'])\n",
        "def home():\n",
        "  if request.method == \"GET\":\n",
        "    return render_template(\"index.html\")\n",
        "  return \"Home\"\n",
        "# def covid_detect_process():\n",
        "#     a = request.form.get(\"a\")\n",
        "#     b = request.form.get(\"b\")\n",
        "\n",
        "#     return str(a+b)"
      ],
      "execution_count": null,
      "outputs": []
    },
    {
      "cell_type": "code",
      "metadata": {
        "id": "1EwgGLhxoqTT"
      },
      "source": [
        "@app.route('/CovidDetect', methods=['POST'])\n",
        "# @cross_origin(origin='*')\n",
        "def covid_detect_process():\n",
        "    lung_base64 = request.form.get('lung_base64')\n",
        "\n",
        "    lung_img = convert_base64_to_img(lung_base64)\n",
        "\n",
        "\n",
        "    return \"hehehe\""
      ],
      "execution_count": null,
      "outputs": []
    },
    {
      "cell_type": "code",
      "metadata": {
        "colab": {
          "base_uri": "https://localhost:8080/"
        },
        "id": "nVpzTguZon6R",
        "outputId": "f5488ddf-8622-49bb-8a0c-cfb387c4eb79"
      },
      "source": [
        "if __name__ == '__main__':\n",
        "    run_with_ngrok(app) \n",
        "    app.run()"
      ],
      "execution_count": null,
      "outputs": [
        {
          "output_type": "stream",
          "text": [
            " * Serving Flask app \"__main__\" (lazy loading)\n",
            " * Environment: production\n",
            "\u001b[31m   WARNING: This is a development server. Do not use it in a production deployment.\u001b[0m\n",
            "\u001b[2m   Use a production WSGI server instead.\u001b[0m\n",
            " * Debug mode: off\n"
          ],
          "name": "stdout"
        },
        {
          "output_type": "stream",
          "text": [
            " * Running on http://127.0.0.1:5000/ (Press CTRL+C to quit)\n"
          ],
          "name": "stderr"
        },
        {
          "output_type": "stream",
          "text": [
            " * Running on http://343322f17633.ngrok.io\n",
            " * Traffic stats available on http://127.0.0.1:4040\n"
          ],
          "name": "stdout"
        },
        {
          "output_type": "stream",
          "text": [
            "127.0.0.1 - - [13/Apr/2021 10:52:27] \"\u001b[37mGET / HTTP/1.1\u001b[0m\" 200 -\n",
            "127.0.0.1 - - [13/Apr/2021 10:52:28] \"\u001b[33mGET /static/tet_back.png HTTP/1.1\u001b[0m\" 404 -\n",
            "127.0.0.1 - - [13/Apr/2021 10:52:29] \"\u001b[33mGET /favicon.ico HTTP/1.1\u001b[0m\" 404 -\n"
          ],
          "name": "stderr"
        }
      ]
    },
    {
      "cell_type": "code",
      "metadata": {
        "id": "faMJY9Omo11x"
      },
      "source": [
        ""
      ],
      "execution_count": null,
      "outputs": []
    }
  ]
}